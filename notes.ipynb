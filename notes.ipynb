{
 "cells": [
  {
   "cell_type": "markdown",
   "id": "6eee34d4",
   "metadata": {},
   "source": [
    "# Machine Learning"
   ]
  },
  {
   "cell_type": "markdown",
   "id": "e482e60f",
   "metadata": {},
   "source": [
    "> Field of study that gives computers the ability to learn without being explicitly programmed - Arthur Samuel"
   ]
  },
  {
   "cell_type": "markdown",
   "id": "fd6c16ad",
   "metadata": {},
   "source": [
    "In general, the more opportunities you give a learning algorithm to learn, the better it will perform"
   ]
  },
  {
   "cell_type": "markdown",
   "id": "de816838",
   "metadata": {},
   "source": [
    "## Types of machine learning algorithms"
   ]
  },
  {
   "cell_type": "markdown",
   "id": "2f52efcd",
   "metadata": {},
   "source": [
    "- Supervised learning\n",
    "- Unsupervised learning\n",
    "- Recommender systems\n",
    "- Reinforcement learning"
   ]
  },
  {
   "cell_type": "markdown",
   "id": "5c46954a",
   "metadata": {},
   "source": [
    "### Supervised learning"
   ]
  },
  {
   "cell_type": "markdown",
   "id": "d06d714f",
   "metadata": {},
   "source": [
    "Algorithms that learn \n",
    "\n",
    "$$X  \\to Y$$\n",
    "\n",
    "i.e., input to output mappings, the key characteristic is that we give the algorithm examples to learn from that include the \"right answers\", i.e., the correct label $y$ for a given input $x$. Let's see some examples"
   ]
  },
  {
   "cell_type": "markdown",
   "id": "291dced2",
   "metadata": {},
   "source": [
    "<p align=\"center\">\n",
    "  <img src=\"applications_supervised.png\" alt=\"supervised learning applications\" width=\"500\"/>\n",
    "</p>"
   ]
  },
  {
   "cell_type": "markdown",
   "id": "93624727",
   "metadata": {},
   "source": []
  }
 ],
 "metadata": {
  "kernelspec": {
   "display_name": "Python 3",
   "language": "python",
   "name": "python3"
  },
  "language_info": {
   "name": "python",
   "version": "3.11.9"
  }
 },
 "nbformat": 4,
 "nbformat_minor": 5
}
